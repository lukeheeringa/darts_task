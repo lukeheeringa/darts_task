{
 "cells": [
  {
   "cell_type": "code",
   "execution_count": 1,
   "id": "friendly-belle",
   "metadata": {},
   "outputs": [],
   "source": [
    "import pandas as pd\n",
    "import numpy as np\n",
    "import matplotlib.pyplot as plt"
   ]
  },
  {
   "cell_type": "code",
   "execution_count": 2,
   "id": "dominant-stockholm",
   "metadata": {},
   "outputs": [],
   "source": [
    "df = pd.read_csv('./data/Top500DartsPlayers.csv')"
   ]
  },
  {
   "cell_type": "code",
   "execution_count": 4,
   "id": "thorough-maple",
   "metadata": {},
   "outputs": [],
   "source": [
    "df = df.rename({\n",
    "    'Rank' : 'rank', \n",
    "    'Player' : 'name', \n",
    "    'Country' : 'country', \n",
    "    'Prize' : 'prize'\n",
    "    }, axis=1)"
   ]
  },
  {
   "cell_type": "code",
   "execution_count": 5,
   "id": "demonstrated-boring",
   "metadata": {},
   "outputs": [],
   "source": [
    "df['prize'] = df['prize'].str.replace('£', '')\n",
    "df['prize'] = df['prize'].str.replace(',', '')\n",
    "df['prize'] = pd.to_numeric(df['prize'])"
   ]
  },
  {
   "cell_type": "code",
   "execution_count": 6,
   "id": "promising-soviet",
   "metadata": {},
   "outputs": [
    {
     "data": {
      "text/html": [
       "<div>\n",
       "<style scoped>\n",
       "    .dataframe tbody tr th:only-of-type {\n",
       "        vertical-align: middle;\n",
       "    }\n",
       "\n",
       "    .dataframe tbody tr th {\n",
       "        vertical-align: top;\n",
       "    }\n",
       "\n",
       "    .dataframe thead th {\n",
       "        text-align: right;\n",
       "    }\n",
       "</style>\n",
       "<table border=\"1\" class=\"dataframe\">\n",
       "  <thead>\n",
       "    <tr style=\"text-align: right;\">\n",
       "      <th></th>\n",
       "      <th>rank</th>\n",
       "      <th>name</th>\n",
       "      <th>country</th>\n",
       "      <th>prize</th>\n",
       "    </tr>\n",
       "  </thead>\n",
       "  <tbody>\n",
       "    <tr>\n",
       "      <th>0</th>\n",
       "      <td>1</td>\n",
       "      <td>Michael van Gerwen</td>\n",
       "      <td>Netherlands</td>\n",
       "      <td>8321167</td>\n",
       "    </tr>\n",
       "    <tr>\n",
       "      <th>1</th>\n",
       "      <td>2</td>\n",
       "      <td>Phil Taylor</td>\n",
       "      <td>England</td>\n",
       "      <td>7630816</td>\n",
       "    </tr>\n",
       "    <tr>\n",
       "      <th>2</th>\n",
       "      <td>3</td>\n",
       "      <td>Gary Anderson</td>\n",
       "      <td>Scotland</td>\n",
       "      <td>4118772</td>\n",
       "    </tr>\n",
       "    <tr>\n",
       "      <th>3</th>\n",
       "      <td>4</td>\n",
       "      <td>Raymond van Barneveld</td>\n",
       "      <td>Netherlands</td>\n",
       "      <td>3510128</td>\n",
       "    </tr>\n",
       "    <tr>\n",
       "      <th>4</th>\n",
       "      <td>5</td>\n",
       "      <td>Peter Wright</td>\n",
       "      <td>Scotland</td>\n",
       "      <td>3470888</td>\n",
       "    </tr>\n",
       "    <tr>\n",
       "      <th>...</th>\n",
       "      <td>...</td>\n",
       "      <td>...</td>\n",
       "      <td>...</td>\n",
       "      <td>...</td>\n",
       "    </tr>\n",
       "    <tr>\n",
       "      <th>495</th>\n",
       "      <td>496</td>\n",
       "      <td>Ben Robb</td>\n",
       "      <td>New Zealand</td>\n",
       "      <td>15339</td>\n",
       "    </tr>\n",
       "    <tr>\n",
       "      <th>496</th>\n",
       "      <td>497</td>\n",
       "      <td>Shane O Connor</td>\n",
       "      <td>Ireland</td>\n",
       "      <td>15325</td>\n",
       "    </tr>\n",
       "    <tr>\n",
       "      <th>497</th>\n",
       "      <td>498</td>\n",
       "      <td>Karin Krappen</td>\n",
       "      <td>Netherlands</td>\n",
       "      <td>15279</td>\n",
       "    </tr>\n",
       "    <tr>\n",
       "      <th>498</th>\n",
       "      <td>499</td>\n",
       "      <td>Ricky Williams</td>\n",
       "      <td>England</td>\n",
       "      <td>15276</td>\n",
       "    </tr>\n",
       "    <tr>\n",
       "      <th>499</th>\n",
       "      <td>500</td>\n",
       "      <td>Sean Downs</td>\n",
       "      <td>USA</td>\n",
       "      <td>15259</td>\n",
       "    </tr>\n",
       "  </tbody>\n",
       "</table>\n",
       "<p>500 rows × 4 columns</p>\n",
       "</div>"
      ],
      "text/plain": [
       "     rank                   name      country    prize\n",
       "0       1     Michael van Gerwen  Netherlands  8321167\n",
       "1       2            Phil Taylor      England  7630816\n",
       "2       3          Gary Anderson     Scotland  4118772\n",
       "3       4  Raymond van Barneveld  Netherlands  3510128\n",
       "4       5           Peter Wright     Scotland  3470888\n",
       "..    ...                    ...          ...      ...\n",
       "495   496               Ben Robb  New Zealand    15339\n",
       "496   497         Shane O Connor      Ireland    15325\n",
       "497   498          Karin Krappen  Netherlands    15279\n",
       "498   499         Ricky Williams      England    15276\n",
       "499   500             Sean Downs          USA    15259\n",
       "\n",
       "[500 rows x 4 columns]"
      ]
     },
     "execution_count": 6,
     "metadata": {},
     "output_type": "execute_result"
    }
   ],
   "source": [
    "df"
   ]
  },
  {
   "cell_type": "code",
   "execution_count": 7,
   "id": "minimal-wrist",
   "metadata": {},
   "outputs": [],
   "source": [
    "df['cumulative'] = df['prize'].cumsum()"
   ]
  },
  {
   "cell_type": "code",
   "execution_count": 8,
   "id": "finite-fantasy",
   "metadata": {},
   "outputs": [],
   "source": [
    "df['% of cumsum'] = df['cumulative']/np.max(df['cumulative'])"
   ]
  },
  {
   "cell_type": "code",
   "execution_count": 9,
   "id": "cellular-allah",
   "metadata": {},
   "outputs": [],
   "source": [
    "df['scaled prize'] = df['prize']/1_000_000"
   ]
  },
  {
   "cell_type": "code",
   "execution_count": 13,
   "id": "exposed-possession",
   "metadata": {},
   "outputs": [
    {
     "data": {
      "image/png": "[encoded data removed]",
      "text/plain": [
       "<Figure size 432x288 with 1 Axes>"
      ]
     },
     "metadata": {
      "needs_background": "light"
     },
     "output_type": "display_data"
    }
   ],
   "source": [
    "fig, ax = plt.subplots(1, 1)\n",
    "\n",
    "ax.plot(df['rank'], df['scaled prize'], linewidth=2)\n",
    "ax.plot([1], [8.321167], 'o', label='Michael van Gerwen (#1)')\n",
    "ax.plot([2], [7.630816], 'o', label='Phil Taylor (#2)')\n",
    "ax.plot([3], [4.118772], 'o', label='Gary Anderson (#3)')\n",
    "\n",
    "ax.legend()\n",
    "ax.set_title('Career Prize Money of Top 500 PDC Players', fontsize=13)\n",
    "ax.set_xlabel('Player Rank', fontsize='larger')\n",
    "ax.set_ylabel('Prize Money (£, Millions)', fontsize='larger')\n",
    "\n",
    "plt.show()"
   ]
  },
  {
   "cell_type": "code",
   "execution_count": 16,
   "id": "armed-reserve",
   "metadata": {},
   "outputs": [
    {
     "data": {
      "image/png": "[encoded data removed]",
      "text/plain": [
       "<Figure size 432x288 with 1 Axes>"
      ]
     },
     "metadata": {
      "needs_background": "light"
     },
     "output_type": "display_data"
    }
   ],
   "source": [
    "fig, ax = plt.subplots(1, 1)\n",
    "\n",
    "ax.plot(df.index, df['% of cumsum'], linewidth=2)\n",
    "ax.plot([96, 96], [0, .8005], '--r')\n",
    "ax.plot([0, 96], [.8005, .8005], '--r')\n",
    "\n",
    "# ax.set_xbound(0, 500)\n",
    "# ax.set_ybound(0, 1.05)\n",
    "ax.set_title('Cumulative Sum of Prize Money by Top 500 PDC Players', fontsize=13)\n",
    "ax.set_xlabel('Player Rank', fontsize='larger')\n",
    "ax.set_ylabel('% of Cumulative Prize Sum', fontsize='larger')\n",
    "\n",
    "plt.show()"
   ]
  }
 ],
 "metadata": {
  "kernelspec": {
   "display_name": "Python 3",
   "language": "python",
   "name": "python3"
  },
  "language_info": {
   "codemirror_mode": {
    "name": "ipython",
    "version": 3
   },
   "file_extension": ".py",
   "mimetype": "text/x-python",
   "name": "python",
   "nbconvert_exporter": "python",
   "pygments_lexer": "ipython3",
   "version": "3.7.9"
  }
 },
 "nbformat": 4,
 "nbformat_minor": 5
}
