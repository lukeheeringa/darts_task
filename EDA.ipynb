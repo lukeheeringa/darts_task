{
 "cells": [
  {
   "cell_type": "code",
   "execution_count": 1,
   "id": "swiss-novel",
   "metadata": {},
   "outputs": [],
   "source": [
    "import pandas as pd\n",
    "import numpy as np\n",
    "\n",
    "import matplotlib.pyplot as plt\n",
    "import seaborn as sns"
   ]
  },
  {
   "cell_type": "code",
   "execution_count": 2,
   "id": "minus-advice",
   "metadata": {},
   "outputs": [],
   "source": [
    "profiles = pd.read_csv('./data/PlayerProfiles.csv')"
   ]
  },
  {
   "cell_type": "code",
   "execution_count": 3,
   "id": "future-feeling",
   "metadata": {},
   "outputs": [],
   "source": [
    "top_players = pd.read_csv('./data/Top500DartsPlayers.csv')"
   ]
  },
  {
   "cell_type": "code",
   "execution_count": 5,
   "id": "suburban-covering",
   "metadata": {
    "collapsed": true,
    "jupyter": {
     "outputs_hidden": true
    }
   },
   "outputs": [
    {
     "data": {
      "text/html": [
       "<div>\n",
       "<style scoped>\n",
       "    .dataframe tbody tr th:only-of-type {\n",
       "        vertical-align: middle;\n",
       "    }\n",
       "\n",
       "    .dataframe tbody tr th {\n",
       "        vertical-align: top;\n",
       "    }\n",
       "\n",
       "    .dataframe thead th {\n",
       "        text-align: right;\n",
       "    }\n",
       "</style>\n",
       "<table border=\"1\" class=\"dataframe\">\n",
       "  <thead>\n",
       "    <tr style=\"text-align: right;\">\n",
       "      <th></th>\n",
       "      <th>Name :</th>\n",
       "      <th>Country :</th>\n",
       "      <th>Age :</th>\n",
       "      <th>Date Of Birth :</th>\n",
       "      <th>Nickname :</th>\n",
       "      <th>PDC Ranking :</th>\n",
       "      <th>Tour Card :</th>\n",
       "      <th>Career Earnings :</th>\n",
       "    </tr>\n",
       "  </thead>\n",
       "  <tbody>\n",
       "    <tr>\n",
       "      <th>0</th>\n",
       "      <td>Michael van Gerwen</td>\n",
       "      <td>Netherlands</td>\n",
       "      <td>32</td>\n",
       "      <td>4/25/1989</td>\n",
       "      <td>Mighty Mike</td>\n",
       "      <td>1</td>\n",
       "      <td>Yes</td>\n",
       "      <td>£8,321,167</td>\n",
       "    </tr>\n",
       "    <tr>\n",
       "      <th>1</th>\n",
       "      <td>Peter Wright</td>\n",
       "      <td>Scotland</td>\n",
       "      <td>51</td>\n",
       "      <td>3/10/1970</td>\n",
       "      <td>Snake Bite</td>\n",
       "      <td>2</td>\n",
       "      <td>Yes</td>\n",
       "      <td>£3,469,888</td>\n",
       "    </tr>\n",
       "    <tr>\n",
       "      <th>2</th>\n",
       "      <td>Gerwyn Price</td>\n",
       "      <td>Wales</td>\n",
       "      <td>36</td>\n",
       "      <td>3/7/1985</td>\n",
       "      <td>The Iceman</td>\n",
       "      <td>3</td>\n",
       "      <td>Yes</td>\n",
       "      <td>£1,497,803</td>\n",
       "    </tr>\n",
       "    <tr>\n",
       "      <th>3</th>\n",
       "      <td>Adrian Lewis</td>\n",
       "      <td>England</td>\n",
       "      <td>36</td>\n",
       "      <td>1/21/1985</td>\n",
       "      <td>Jackpot</td>\n",
       "      <td>13</td>\n",
       "      <td>Yes</td>\n",
       "      <td>£3,137,634</td>\n",
       "    </tr>\n",
       "    <tr>\n",
       "      <th>4</th>\n",
       "      <td>James Wade</td>\n",
       "      <td>England</td>\n",
       "      <td>38</td>\n",
       "      <td>4/6/1983</td>\n",
       "      <td>The Machine</td>\n",
       "      <td>9</td>\n",
       "      <td>Yes</td>\n",
       "      <td>£3,458,893</td>\n",
       "    </tr>\n",
       "  </tbody>\n",
       "</table>\n",
       "</div>"
      ],
      "text/plain": [
       "               Name :    Country :  Age : Date Of Birth :   Nickname :  \\\n",
       "0  Michael van Gerwen  Netherlands     32       4/25/1989  Mighty Mike   \n",
       "1        Peter Wright     Scotland     51       3/10/1970   Snake Bite   \n",
       "2        Gerwyn Price        Wales     36        3/7/1985   The Iceman   \n",
       "3        Adrian Lewis      England     36       1/21/1985      Jackpot   \n",
       "4          James Wade      England     38        4/6/1983  The Machine   \n",
       "\n",
       "   PDC Ranking : Tour Card : Career Earnings :  \n",
       "0              1         Yes        £8,321,167  \n",
       "1              2         Yes        £3,469,888  \n",
       "2              3         Yes        £1,497,803  \n",
       "3             13         Yes        £3,137,634  \n",
       "4              9         Yes        £3,458,893  "
      ]
     },
     "execution_count": 5,
     "metadata": {},
     "output_type": "execute_result"
    }
   ],
   "source": [
    "profiles.head()"
   ]
  },
  {
   "cell_type": "code",
   "execution_count": 6,
   "id": "czech-former",
   "metadata": {
    "collapsed": true,
    "jupyter": {
     "outputs_hidden": true
    }
   },
   "outputs": [
    {
     "name": "stdout",
     "output_type": "stream",
     "text": [
      "<class 'pandas.core.frame.DataFrame'>\n",
      "RangeIndex: 96 entries, 0 to 95\n",
      "Data columns (total 8 columns):\n",
      " #   Column             Non-Null Count  Dtype \n",
      "---  ------             --------------  ----- \n",
      " 0   Name :             96 non-null     object\n",
      " 1   Country :          96 non-null     object\n",
      " 2   Age :              96 non-null     int64 \n",
      " 3   Date Of Birth :    96 non-null     object\n",
      " 4   Nickname :         96 non-null     object\n",
      " 5   PDC Ranking :      96 non-null     int64 \n",
      " 6   Tour Card :        96 non-null     object\n",
      " 7   Career Earnings :  96 non-null     object\n",
      "dtypes: int64(2), object(6)\n",
      "memory usage: 6.1+ KB\n"
     ]
    }
   ],
   "source": [
    "profiles.info()"
   ]
  },
  {
   "cell_type": "code",
   "execution_count": 7,
   "id": "organic-amplifier",
   "metadata": {
    "collapsed": true,
    "jupyter": {
     "outputs_hidden": true
    }
   },
   "outputs": [
    {
     "data": {
      "text/plain": [
       "England             43\n",
       "Netherlands         14\n",
       "Scotland             8\n",
       "Belgium              5\n",
       "Wales                5\n",
       "Northern Ireland     4\n",
       "Australia            3\n",
       "Austria              3\n",
       "Spain                2\n",
       "Germany              2\n",
       "Brazil               1\n",
       "Greece               1\n",
       "Canada               1\n",
       "Ireland              1\n",
       "South Africa         1\n",
       "Latvia               1\n",
       "Lithuania            1\n",
       "Name: Country :, dtype: int64"
      ]
     },
     "execution_count": 7,
     "metadata": {},
     "output_type": "execute_result"
    }
   ],
   "source": [
    "profiles['Country :'].value_counts()"
   ]
  },
  {
   "cell_type": "code",
   "execution_count": 8,
   "id": "included-special",
   "metadata": {
    "collapsed": true,
    "jupyter": {
     "outputs_hidden": true
    }
   },
   "outputs": [
    {
     "data": {
      "text/plain": [
       "Index(['Name :', 'Country :', 'Age :', 'Date Of Birth :', 'Nickname :',\n",
       "       'PDC Ranking :', 'Tour Card :', 'Career Earnings :'],\n",
       "      dtype='object')"
      ]
     },
     "execution_count": 8,
     "metadata": {},
     "output_type": "execute_result"
    }
   ],
   "source": [
    "profiles.columns"
   ]
  },
  {
   "cell_type": "code",
   "execution_count": 9,
   "id": "institutional-denial",
   "metadata": {
    "jupyter": {
     "source_hidden": true
    }
   },
   "outputs": [],
   "source": [
    "profiles = profiles.rename({\n",
    "    'Name :' : 'name', \n",
    "    'Country :' : 'country',  \n",
    "    'Age :' : 'age', \n",
    "    'Date Of Birth :' : 'dob', \n",
    "    'Nickname :' : 'nickname',\n",
    "    'PDC Ranking :' : 'pdc_ranking', \n",
    "    'Tour Card :' : 'has_card',  \n",
    "    'Career Earnings :' : 'earnings'},\n",
    "    axis=1)"
   ]
  },
  {
   "cell_type": "code",
   "execution_count": 10,
   "id": "urban-dairy",
   "metadata": {},
   "outputs": [],
   "source": [
    "profiles['earnings'] = profiles['earnings'].str.replace('£', '')\n",
    "profiles['earnings'] = profiles['earnings'].str.replace(',', '')\n",
    "profiles['earnings'] = pd.to_numeric(profiles['earnings'])"
   ]
  },
  {
   "cell_type": "code",
   "execution_count": 38,
   "id": "recovered-activation",
   "metadata": {},
   "outputs": [],
   "source": [
    "profiles = profiles.drop_duplicates()"
   ]
  },
  {
   "cell_type": "code",
   "execution_count": 39,
   "id": "sealed-morgan",
   "metadata": {
    "collapsed": true,
    "jupyter": {
     "outputs_hidden": true
    }
   },
   "outputs": [
    {
     "data": {
      "image/png": "[encoded data removed]",
      "text/plain": [
       "<Figure size 540x540 with 12 Axes>"
      ]
     },
     "metadata": {
      "needs_background": "light"
     },
     "output_type": "display_data"
    }
   ],
   "source": [
    "g = sns.PairGrid(profiles)\n",
    "g = g.map_lower(sns.regplot)\n",
    "g = g.map_upper(sns.kdeplot, cmap='Blues', shade=True)\n",
    "g = g.map_diag(sns.histplot)\n",
    "\n",
    "plt.show()"
   ]
  },
  {
   "cell_type": "code",
   "execution_count": 4,
   "id": "juvenile-express",
   "metadata": {},
   "outputs": [
    {
     "data": {
      "text/html": [
       "<div>\n",
       "<style scoped>\n",
       "    .dataframe tbody tr th:only-of-type {\n",
       "        vertical-align: middle;\n",
       "    }\n",
       "\n",
       "    .dataframe tbody tr th {\n",
       "        vertical-align: top;\n",
       "    }\n",
       "\n",
       "    .dataframe thead th {\n",
       "        text-align: right;\n",
       "    }\n",
       "</style>\n",
       "<table border=\"1\" class=\"dataframe\">\n",
       "  <thead>\n",
       "    <tr style=\"text-align: right;\">\n",
       "      <th></th>\n",
       "      <th>Rank</th>\n",
       "      <th>Player</th>\n",
       "      <th>Country</th>\n",
       "      <th>Prize</th>\n",
       "    </tr>\n",
       "  </thead>\n",
       "  <tbody>\n",
       "    <tr>\n",
       "      <th>0</th>\n",
       "      <td>1</td>\n",
       "      <td>Michael van Gerwen</td>\n",
       "      <td>Netherlands</td>\n",
       "      <td>£8,321,167</td>\n",
       "    </tr>\n",
       "    <tr>\n",
       "      <th>1</th>\n",
       "      <td>2</td>\n",
       "      <td>Phil Taylor</td>\n",
       "      <td>England</td>\n",
       "      <td>£7,630,816</td>\n",
       "    </tr>\n",
       "    <tr>\n",
       "      <th>2</th>\n",
       "      <td>3</td>\n",
       "      <td>Gary Anderson</td>\n",
       "      <td>Scotland</td>\n",
       "      <td>£4,118,772</td>\n",
       "    </tr>\n",
       "    <tr>\n",
       "      <th>3</th>\n",
       "      <td>4</td>\n",
       "      <td>Raymond van Barneveld</td>\n",
       "      <td>Netherlands</td>\n",
       "      <td>£3,510,128</td>\n",
       "    </tr>\n",
       "    <tr>\n",
       "      <th>4</th>\n",
       "      <td>5</td>\n",
       "      <td>Peter Wright</td>\n",
       "      <td>Scotland</td>\n",
       "      <td>£3,470,888</td>\n",
       "    </tr>\n",
       "  </tbody>\n",
       "</table>\n",
       "</div>"
      ],
      "text/plain": [
       "   Rank                 Player      Country       Prize\n",
       "0     1     Michael van Gerwen  Netherlands  £8,321,167\n",
       "1     2            Phil Taylor      England  £7,630,816\n",
       "2     3          Gary Anderson     Scotland  £4,118,772\n",
       "3     4  Raymond van Barneveld  Netherlands  £3,510,128\n",
       "4     5           Peter Wright     Scotland  £3,470,888"
      ]
     },
     "execution_count": 4,
     "metadata": {},
     "output_type": "execute_result"
    }
   ],
   "source": [
    "top_players.head()"
   ]
  },
  {
   "cell_type": "code",
   "execution_count": 5,
   "id": "rolled-cream",
   "metadata": {},
   "outputs": [
    {
     "name": "stdout",
     "output_type": "stream",
     "text": [
      "<class 'pandas.core.frame.DataFrame'>\n",
      "RangeIndex: 500 entries, 0 to 499\n",
      "Data columns (total 4 columns):\n",
      " #   Column   Non-Null Count  Dtype \n",
      "---  ------   --------------  ----- \n",
      " 0   Rank     500 non-null    int64 \n",
      " 1   Player   500 non-null    object\n",
      " 2   Country  500 non-null    object\n",
      " 3   Prize    500 non-null    object\n",
      "dtypes: int64(1), object(3)\n",
      "memory usage: 15.8+ KB\n"
     ]
    }
   ],
   "source": [
    "top_players.info()"
   ]
  },
  {
   "cell_type": "code",
   "execution_count": 6,
   "id": "emotional-printing",
   "metadata": {},
   "outputs": [
    {
     "data": {
      "text/plain": [
       "Index(['Rank', 'Player', 'Country', 'Prize'], dtype='object')"
      ]
     },
     "execution_count": 6,
     "metadata": {},
     "output_type": "execute_result"
    }
   ],
   "source": [
    "top_players.columns"
   ]
  },
  {
   "cell_type": "code",
   "execution_count": 7,
   "id": "designed-scanning",
   "metadata": {},
   "outputs": [],
   "source": [
    "top_players = top_players.rename({\n",
    "    'Rank' : 'rank', \n",
    "    'Player' : 'name', \n",
    "    'Country' : 'country', \n",
    "    'Prize' : 'prize'\n",
    "    }, axis=1)"
   ]
  },
  {
   "cell_type": "code",
   "execution_count": 8,
   "id": "excited-memorial",
   "metadata": {},
   "outputs": [],
   "source": [
    "top_players['prize'] = top_players['prize'].str.replace('£', '')\n",
    "top_players['prize'] = top_players['prize'].str.replace(',', '')\n",
    "top_players['prize'] = pd.to_numeric(top_players['prize'])"
   ]
  },
  {
   "cell_type": "code",
   "execution_count": 9,
   "id": "narrative-deviation",
   "metadata": {},
   "outputs": [
    {
     "data": {
      "text/html": [
       "<div>\n",
       "<style scoped>\n",
       "    .dataframe tbody tr th:only-of-type {\n",
       "        vertical-align: middle;\n",
       "    }\n",
       "\n",
       "    .dataframe tbody tr th {\n",
       "        vertical-align: top;\n",
       "    }\n",
       "\n",
       "    .dataframe thead th {\n",
       "        text-align: right;\n",
       "    }\n",
       "</style>\n",
       "<table border=\"1\" class=\"dataframe\">\n",
       "  <thead>\n",
       "    <tr style=\"text-align: right;\">\n",
       "      <th></th>\n",
       "      <th>rank</th>\n",
       "      <th>name</th>\n",
       "      <th>country</th>\n",
       "      <th>prize</th>\n",
       "    </tr>\n",
       "  </thead>\n",
       "  <tbody>\n",
       "    <tr>\n",
       "      <th>0</th>\n",
       "      <td>1</td>\n",
       "      <td>Michael van Gerwen</td>\n",
       "      <td>Netherlands</td>\n",
       "      <td>8321167</td>\n",
       "    </tr>\n",
       "    <tr>\n",
       "      <th>1</th>\n",
       "      <td>2</td>\n",
       "      <td>Phil Taylor</td>\n",
       "      <td>England</td>\n",
       "      <td>7630816</td>\n",
       "    </tr>\n",
       "    <tr>\n",
       "      <th>2</th>\n",
       "      <td>3</td>\n",
       "      <td>Gary Anderson</td>\n",
       "      <td>Scotland</td>\n",
       "      <td>4118772</td>\n",
       "    </tr>\n",
       "    <tr>\n",
       "      <th>3</th>\n",
       "      <td>4</td>\n",
       "      <td>Raymond van Barneveld</td>\n",
       "      <td>Netherlands</td>\n",
       "      <td>3510128</td>\n",
       "    </tr>\n",
       "    <tr>\n",
       "      <th>4</th>\n",
       "      <td>5</td>\n",
       "      <td>Peter Wright</td>\n",
       "      <td>Scotland</td>\n",
       "      <td>3470888</td>\n",
       "    </tr>\n",
       "    <tr>\n",
       "      <th>...</th>\n",
       "      <td>...</td>\n",
       "      <td>...</td>\n",
       "      <td>...</td>\n",
       "      <td>...</td>\n",
       "    </tr>\n",
       "    <tr>\n",
       "      <th>495</th>\n",
       "      <td>496</td>\n",
       "      <td>Ben Robb</td>\n",
       "      <td>New Zealand</td>\n",
       "      <td>15339</td>\n",
       "    </tr>\n",
       "    <tr>\n",
       "      <th>496</th>\n",
       "      <td>497</td>\n",
       "      <td>Shane O Connor</td>\n",
       "      <td>Ireland</td>\n",
       "      <td>15325</td>\n",
       "    </tr>\n",
       "    <tr>\n",
       "      <th>497</th>\n",
       "      <td>498</td>\n",
       "      <td>Karin Krappen</td>\n",
       "      <td>Netherlands</td>\n",
       "      <td>15279</td>\n",
       "    </tr>\n",
       "    <tr>\n",
       "      <th>498</th>\n",
       "      <td>499</td>\n",
       "      <td>Ricky Williams</td>\n",
       "      <td>England</td>\n",
       "      <td>15276</td>\n",
       "    </tr>\n",
       "    <tr>\n",
       "      <th>499</th>\n",
       "      <td>500</td>\n",
       "      <td>Sean Downs</td>\n",
       "      <td>USA</td>\n",
       "      <td>15259</td>\n",
       "    </tr>\n",
       "  </tbody>\n",
       "</table>\n",
       "<p>500 rows × 4 columns</p>\n",
       "</div>"
      ],
      "text/plain": [
       "     rank                   name      country    prize\n",
       "0       1     Michael van Gerwen  Netherlands  8321167\n",
       "1       2            Phil Taylor      England  7630816\n",
       "2       3          Gary Anderson     Scotland  4118772\n",
       "3       4  Raymond van Barneveld  Netherlands  3510128\n",
       "4       5           Peter Wright     Scotland  3470888\n",
       "..    ...                    ...          ...      ...\n",
       "495   496               Ben Robb  New Zealand    15339\n",
       "496   497         Shane O Connor      Ireland    15325\n",
       "497   498          Karin Krappen  Netherlands    15279\n",
       "498   499         Ricky Williams      England    15276\n",
       "499   500             Sean Downs          USA    15259\n",
       "\n",
       "[500 rows x 4 columns]"
      ]
     },
     "execution_count": 9,
     "metadata": {},
     "output_type": "execute_result"
    }
   ],
   "source": [
    "top_players"
   ]
  },
  {
   "cell_type": "code",
   "execution_count": 10,
   "id": "divided-mounting",
   "metadata": {
    "collapsed": true,
    "jupyter": {
     "outputs_hidden": true
    }
   },
   "outputs": [
    {
     "data": {
      "text/plain": [
       "England             218\n",
       "Netherlands          57\n",
       "Australia            25\n",
       "Wales                22\n",
       "USA                  21\n",
       "Scotland             21\n",
       "Germany              14\n",
       "Belgium              12\n",
       "Ireland              11\n",
       "Canada               10\n",
       "New Zealand          10\n",
       "Japan                 9\n",
       "Northern Ireland      9\n",
       "Austria               8\n",
       "Finland               5\n",
       "Sweden                4\n",
       "Philippines           4\n",
       "Spain                 4\n",
       "Poland                3\n",
       "Hong Kong             3\n",
       "Denmark               3\n",
       "Russia                3\n",
       "Croatia               3\n",
       "Singapore             2\n",
       "India                 2\n",
       "South Africa          2\n",
       "China                 2\n",
       "Gibraltar             2\n",
       "Norway                1\n",
       "Thailand              1\n",
       "Lithuania             1\n",
       "South Korea           1\n",
       "Czech Rep             1\n",
       "Greece                1\n",
       "Latvia                1\n",
       "Malaysia              1\n",
       "Portugal              1\n",
       "Hungary               1\n",
       "Brazil                1\n",
       "Name: country, dtype: int64"
      ]
     },
     "execution_count": 10,
     "metadata": {},
     "output_type": "execute_result"
    }
   ],
   "source": [
    "top_players['country'].value_counts()"
   ]
  },
  {
   "cell_type": "code",
   "execution_count": 11,
   "id": "natural-glance",
   "metadata": {},
   "outputs": [
    {
     "name": "stdout",
     "output_type": "stream",
     "text": [
      "<class 'pandas.core.frame.DataFrame'>\n",
      "RangeIndex: 500 entries, 0 to 499\n",
      "Data columns (total 4 columns):\n",
      " #   Column   Non-Null Count  Dtype \n",
      "---  ------   --------------  ----- \n",
      " 0   rank     500 non-null    int64 \n",
      " 1   name     500 non-null    object\n",
      " 2   country  500 non-null    object\n",
      " 3   prize    500 non-null    int64 \n",
      "dtypes: int64(2), object(2)\n",
      "memory usage: 15.8+ KB\n"
     ]
    }
   ],
   "source": [
    "top_players.info()"
   ]
  },
  {
   "cell_type": "code",
   "execution_count": 12,
   "id": "known-thermal",
   "metadata": {
    "collapsed": true,
    "jupyter": {
     "outputs_hidden": true
    }
   },
   "outputs": [
    {
     "data": {
      "text/plain": [
       "country\n",
       "Scotland            489620.047619\n",
       "Netherlands         334646.017544\n",
       "Northern Ireland    292545.888889\n",
       "England             268780.605505\n",
       "Austria             237474.125000\n",
       "Wales               220862.454545\n",
       "Belgium             191038.250000\n",
       "Lithuania           184407.000000\n",
       "Singapore           176958.500000\n",
       "Australia           161552.800000\n",
       "Poland              158358.333333\n",
       "Spain               155998.500000\n",
       "Canada              131841.100000\n",
       "South Africa        122354.000000\n",
       "Portugal            105847.000000\n",
       "Latvia              105677.000000\n",
       "Germany             100298.857143\n",
       "Greece               99056.000000\n",
       "Philippines          91439.250000\n",
       "Ireland              80087.545455\n",
       "Russia               74236.000000\n",
       "Croatia              69788.333333\n",
       "Sweden               66861.250000\n",
       "Norway               60585.000000\n",
       "Finland              60218.600000\n",
       "Brazil               59367.000000\n",
       "Japan                51954.222222\n",
       "Hong Kong            46640.000000\n",
       "USA                  43191.142857\n",
       "Denmark              41581.666667\n",
       "Czech Rep            36270.000000\n",
       "South Korea          31391.000000\n",
       "Gibraltar            27774.500000\n",
       "New Zealand          25676.100000\n",
       "Hungary              25381.000000\n",
       "India                23919.500000\n",
       "Malaysia             22888.000000\n",
       "Thailand             17895.000000\n",
       "China                17803.500000\n",
       "Name: prize, dtype: float64"
      ]
     },
     "execution_count": 12,
     "metadata": {},
     "output_type": "execute_result"
    }
   ],
   "source": [
    "top_players.groupby(by='country').mean()['prize'].sort_values(ascending=False)"
   ]
  },
  {
   "cell_type": "code",
   "execution_count": 13,
   "id": "coordinate-dealer",
   "metadata": {},
   "outputs": [
    {
     "data": {
      "text/plain": [
       "<matplotlib.collections.PathCollection at 0x7fd381e339a0>"
      ]
     },
     "execution_count": 13,
     "metadata": {},
     "output_type": "execute_result"
    },
    {
     "data": {
      "image/png": "[encoded data removed]",
      "text/plain": [
       "<Figure size 432x288 with 1 Axes>"
      ]
     },
     "metadata": {
      "needs_background": "light"
     },
     "output_type": "display_data"
    }
   ],
   "source": [
    "plt.scatter(top_players['rank'], top_players['prize'])"
   ]
  },
  {
   "cell_type": "code",
   "execution_count": 30,
   "id": "billion-illinois",
   "metadata": {},
   "outputs": [],
   "source": [
    "top_players['log prize'] = np.log(top_players['prize'])"
   ]
  },
  {
   "cell_type": "code",
   "execution_count": 31,
   "id": "antique-oasis",
   "metadata": {},
   "outputs": [
    {
     "data": {
      "text/plain": [
       "<matplotlib.collections.PathCollection at 0x7fd383da2c40>"
      ]
     },
     "execution_count": 31,
     "metadata": {},
     "output_type": "execute_result"
    },
    {
     "data": {
      "image/png": "[encoded data removed]",
      "text/plain": [
       "<Figure size 432x288 with 1 Axes>"
      ]
     },
     "metadata": {
      "needs_background": "light"
     },
     "output_type": "display_data"
    }
   ],
   "source": [
    "plt.scatter(top_players['rank'], top_players['log prize'])"
   ]
  },
  {
   "cell_type": "code",
   "execution_count": 17,
   "id": "tropical-password",
   "metadata": {},
   "outputs": [],
   "source": [
    "top_players['inv prize'] = 1/top_players['prize']"
   ]
  },
  {
   "cell_type": "code",
   "execution_count": 18,
   "id": "liberal-anchor",
   "metadata": {},
   "outputs": [
    {
     "data": {
      "text/plain": [
       "<matplotlib.collections.PathCollection at 0x7fd3828d46d0>"
      ]
     },
     "execution_count": 18,
     "metadata": {},
     "output_type": "execute_result"
    },
    {
     "data": {
      "image/png": "[encoded data removed]",
      "text/plain": [
       "<Figure size 432x288 with 1 Axes>"
      ]
     },
     "metadata": {
      "needs_background": "light"
     },
     "output_type": "display_data"
    }
   ],
   "source": [
    "plt.scatter(top_players['rank'], top_players['inv prize'])"
   ]
  },
  {
   "cell_type": "code",
   "execution_count": 32,
   "id": "romantic-civilian",
   "metadata": {},
   "outputs": [],
   "source": [
    "top_players.to_csv('./data/cleaned.csv', index=False)"
   ]
  },
  {
   "cell_type": "code",
   "execution_count": 33,
   "id": "equipped-governor",
   "metadata": {},
   "outputs": [],
   "source": [
    "import pandas as pd\n",
    "import numpy as np\n",
    "import matplotlib.pyplot as plt\n",
    "\n",
    "from scipy.stats import pareto"
   ]
  },
  {
   "cell_type": "code",
   "execution_count": 35,
   "id": "ignored-crest",
   "metadata": {},
   "outputs": [
    {
     "data": {
      "text/plain": [
       "[<matplotlib.lines.Line2D at 0x7fd3840d4fd0>]"
      ]
     },
     "execution_count": 35,
     "metadata": {},
     "output_type": "execute_result"
    },
    {
     "data": {
      "image/png": "[encoded data removed]",
      "text/plain": [
       "<Figure size 432x288 with 1 Axes>"
      ]
     },
     "metadata": {
      "needs_background": "light"
     },
     "output_type": "display_data"
    }
   ],
   "source": [
    "fig, ax = plt.subplots(1, 1)\n",
    "\n",
    "b = 2.62\n",
    "mean, var, skew, kurt = pareto.stats(b, moments='mvsk')\n",
    "\n",
    "x = np.linspace(pareto.ppf(0.01, b),\n",
    "                pareto.ppf(0.99, b), 100)\n",
    "ax.plot(x, pareto.pdf(x, b),\n",
    "       'r-', lw=5, alpha=0.6, label='pareto pdf')\n",
    "\n",
    "rv = pareto(3)\n",
    "ax.plot(x, rv.pdf(x), 'k-', lw=2, label='frozen pdf')"
   ]
  },
  {
   "cell_type": "code",
   "execution_count": null,
   "id": "informal-daughter",
   "metadata": {},
   "outputs": [],
   "source": [
    "np.allclose()"
   ]
  }
 ],
 "metadata": {
  "kernelspec": {
   "display_name": "Python 3",
   "language": "python",
   "name": "python3"
  },
  "language_info": {
   "codemirror_mode": {
    "name": "ipython",
    "version": 3
   },
   "file_extension": ".py",
   "mimetype": "text/x-python",
   "name": "python",
   "nbconvert_exporter": "python",
   "pygments_lexer": "ipython3",
   "version": "3.7.9"
  }
 },
 "nbformat": 4,
 "nbformat_minor": 5
}
